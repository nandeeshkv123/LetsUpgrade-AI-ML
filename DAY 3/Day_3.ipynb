{
  "nbformat": 4,
  "nbformat_minor": 0,
  "metadata": {
    "colab": {
      "name": "Day-3",
      "provenance": [],
      "collapsed_sections": []
    },
    "kernelspec": {
      "name": "python3",
      "display_name": "Python 3"
    }
  },
  "cells": [
    {
      "cell_type": "markdown",
      "metadata": {
        "id": "4fb6D7Sy8gyX",
        "colab_type": "text"
      },
      "source": [
        "Question -1"
      ]
    },
    {
      "cell_type": "code",
      "metadata": {
        "id": "CyvOzZQ_7-Tt",
        "colab_type": "code",
        "colab": {
          "base_uri": "https://localhost:8080/",
          "height": 34
        },
        "outputId": "b5f6fe3a-28cd-4693-d882-bfca9ebf3fa0"
      },
      "source": [
        "a=3-4j\n",
        "b=4-6j\n",
        "c=a-b\n",
        "print(c)"
      ],
      "execution_count": 1,
      "outputs": [
        {
          "output_type": "stream",
          "text": [
            "(-1+2j)\n"
          ],
          "name": "stdout"
        }
      ]
    },
    {
      "cell_type": "markdown",
      "metadata": {
        "id": "ox3nlWflV3Tn",
        "colab_type": "text"
      },
      "source": [
        "Question-2"
      ]
    },
    {
      "cell_type": "code",
      "metadata": {
        "id": "qwRaUa6m8qcw",
        "colab_type": "code",
        "colab": {
          "base_uri": "https://localhost:8080/",
          "height": 34
        },
        "outputId": "696356fe-89b8-4b1a-adc0-d35c0410c90e"
      },
      "source": [
        "import math \n",
        "def nth_root(A,N):\n",
        "  return pow(A,1/N) \n",
        "A=81\n",
        "N=4\n",
        "q=nth_root(A,N)\n",
        "print(q)"
      ],
      "execution_count": 14,
      "outputs": [
        {
          "output_type": "stream",
          "text": [
            "3.0\n"
          ],
          "name": "stdout"
        }
      ]
    },
    {
      "cell_type": "markdown",
      "metadata": {
        "id": "lQUJQ27wV8TQ",
        "colab_type": "text"
      },
      "source": [
        "Question-3"
      ]
    },
    {
      "cell_type": "code",
      "metadata": {
        "id": "mcJK_dUXFC_2",
        "colab_type": "code",
        "colab": {
          "base_uri": "https://localhost:8080/",
          "height": 50
        },
        "outputId": "9c128a2c-1ec5-4ecd-c7b2-b25a93559ce6"
      },
      "source": [
        "import math\n",
        "x=2\n",
        "y=6\n",
        "#creating temporary variable temp\n",
        "temp =x\n",
        "x=y\n",
        "y=temp\n",
        "print(\"The value of x after swapping: \",x)\n",
        "print(\"The value of y after swapping:\",y)"
      ],
      "execution_count": 16,
      "outputs": [
        {
          "output_type": "stream",
          "text": [
            "The value of x after swapping:  6\n",
            "The value of y after swapping: 2\n"
          ],
          "name": "stdout"
        }
      ]
    },
    {
      "cell_type": "markdown",
      "metadata": {
        "id": "kzQeXLbxV-tf",
        "colab_type": "text"
      },
      "source": [
        "Question-4"
      ]
    },
    {
      "cell_type": "code",
      "metadata": {
        "id": "1g6FIX7cGhpu",
        "colab_type": "code",
        "colab": {
          "base_uri": "https://localhost:8080/",
          "height": 84
        },
        "outputId": "fb545b7a-e84c-4be7-a55a-7e4cd41ec5eb"
      },
      "source": [
        "import math\n",
        "x=2\n",
        "y=6\n",
        "print(\"The value of x before swapping: \",x)\n",
        "print(\"The value of y before swapping:\",y)\n",
        "x,y=y,x\n",
        "print(\"The value of x after swapping: \",x)\n",
        "print(\"The value of y after swapping:\",y)\n"
      ],
      "execution_count": 17,
      "outputs": [
        {
          "output_type": "stream",
          "text": [
            "The value of x before swapping:  2\n",
            "The value of y before swapping: 6\n",
            "The value of x after swapping:  6\n",
            "The value of y after swapping: 2\n"
          ],
          "name": "stdout"
        }
      ]
    },
    {
      "cell_type": "markdown",
      "metadata": {
        "id": "FCM0lC9eWCPZ",
        "colab_type": "text"
      },
      "source": [
        "Question -5"
      ]
    },
    {
      "cell_type": "code",
      "metadata": {
        "id": "Hv1RhuS3Prm_",
        "colab_type": "code",
        "colab": {
          "base_uri": "https://localhost:8080/",
          "height": 50
        },
        "outputId": "6ad33a14-5976-46c7-f77d-3ba7a5af3235"
      },
      "source": [
        "def Fahrenheit_To_Kelvin(F):\n",
        "   return 273.5 + ((F - 32.0) * (5.0/9.0))\n",
        "F= 100\n",
        "print(\"Temperature in kelvin=\",Fahrenheit_To_Kelvin(F))\n",
        "\n",
        "def Fahrenheit_To_Celsius(F):\n",
        "  return (F - 32) * 5 / 9\n",
        "F=100\n",
        "print(\"Temperature in celsius: \" , Fahrenheit_To_Celsius(F) )"
      ],
      "execution_count": 27,
      "outputs": [
        {
          "output_type": "stream",
          "text": [
            "Temperature in kelvin= 311.27777777777777\n",
            "Temperature in celsius:  37.77777777777778\n"
          ],
          "name": "stdout"
        }
      ]
    },
    {
      "cell_type": "markdown",
      "metadata": {
        "id": "XdOhMOa5WE6n",
        "colab_type": "text"
      },
      "source": [
        "Question-6"
      ]
    },
    {
      "cell_type": "code",
      "metadata": {
        "id": "T8iZ7JuMQr3C",
        "colab_type": "code",
        "colab": {
          "base_uri": "https://localhost:8080/",
          "height": 67
        },
        "outputId": "c4370783-3de5-4709-b6c7-6a43343d526c"
      },
      "source": [
        "X = 10\n",
        "print(X, \"is of type\", type(X))\n",
        "\n",
        "X= 53.258\n",
        "print(X, \"is of type\", type(X))\n",
        "\n",
        "X = 1+2j\n",
        "print(X, \"is of type\",type(X))"
      ],
      "execution_count": 29,
      "outputs": [
        {
          "output_type": "stream",
          "text": [
            "10 is of type <class 'int'>\n",
            "53.258 is of type <class 'float'>\n",
            "(1+2j) is of type <class 'complex'>\n"
          ],
          "name": "stdout"
        }
      ]
    },
    {
      "cell_type": "markdown",
      "metadata": {
        "id": "KpbcfGVLWHh7",
        "colab_type": "text"
      },
      "source": [
        "Question-7"
      ]
    },
    {
      "cell_type": "code",
      "metadata": {
        "id": "kWK2j1ipWI5y",
        "colab_type": "code",
        "colab": {}
      },
      "source": [
        "# steps to create github profile and upload github assignments link\n",
        "# 1) create a folder of that day assignment in your pc.\n",
        "# 2) click on NEW and in the repositary column write 'LetsUpgrade AI-ML' and in description write as assignments and it has to be in public and scroll down and click on creating repositary.\n",
        "# 3)Then a folder of letsupgrade would have benn created and then click on uploading an exisiting file and then draf and drop your files there as you have created a folder of that day assignmrnt and then drag and take it to github and drop there.\n",
        "# 4)Then click on commit changes.\n",
        "# 5)and if you want to revisit then go to home folder and click on repositories and open and yu can see your folder.\n",
        "# 6)and copy the url and upload the link to the assignment folder sent by google form and paste the github url in there ."
      ],
      "execution_count": null,
      "outputs": []
    }
  ]
}