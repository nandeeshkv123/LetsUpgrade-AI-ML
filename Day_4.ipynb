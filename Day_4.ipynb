{
  "nbformat": 4,
  "nbformat_minor": 0,
  "metadata": {
    "colab": {
      "name": "Day 4",
      "provenance": [],
      "collapsed_sections": []
    },
    "kernelspec": {
      "name": "python3",
      "display_name": "Python 3"
    }
  },
  "cells": [
    {
      "cell_type": "markdown",
      "metadata": {
        "id": "8nrW5H8F2Fyb",
        "colab_type": "text"
      },
      "source": [
        "Question -1"
      ]
    },
    {
      "cell_type": "code",
      "metadata": {
        "id": "cTSRmlZb11uM",
        "colab_type": "code",
        "colab": {
          "base_uri": "https://localhost:8080/",
          "height": 84
        },
        "outputId": "c0b02c70-94d4-4010-fccf-9195793cbb0a"
      },
      "source": [
        "#Addition \n",
        "a= 5+5j\n",
        "b= 6+7j\n",
        "c= a+b\n",
        "print(c)\n",
        "\n",
        "#Subtraction\n",
        "a=5+5j\n",
        "b= 6+7j\n",
        "c= a-b\n",
        "print(c)\n",
        "\n",
        "#division operation\n",
        "a= 5+5j\n",
        "b= 6+7j\n",
        "c= a/b\n",
        "print(c)\n",
        "\n",
        "# multiplication\n",
        "a= 5+5j\n",
        "b= 6+7j\n",
        "c= a*b\n",
        "print(c)\n",
        "\n",
        "# modulo operator cant be used for complex numbers.\n",
        "# a= 5+5j\n",
        "# b= 6+7j\n",
        "# c= a%b\n",
        "# print(c)\n",
        "\n",
        "\n",
        "\n",
        "#complex numbers cant be used in floor division method\n",
        "# a= 5+5j\n",
        "# b= 6+7j\n",
        "# c= a//b\n",
        "# print(c) \n",
        "\n",
        "\n",
        "\n",
        "\n",
        "\n",
        "\n",
        "\n"
      ],
      "execution_count": 9,
      "outputs": [
        {
          "output_type": "stream",
          "text": [
            "(11+12j)\n",
            "(-1-2j)\n",
            "(0.7647058823529411-0.05882352941176472j)\n",
            "(-5+65j)\n"
          ],
          "name": "stdout"
        }
      ]
    },
    {
      "cell_type": "markdown",
      "metadata": {
        "id": "YE-m4SMW8aFF",
        "colab_type": "text"
      },
      "source": [
        "Question-2"
      ]
    },
    {
      "cell_type": "code",
      "metadata": {
        "id": "l6ogP1674BAK",
        "colab_type": "code",
        "colab": {}
      },
      "source": [
        "range() and its parameters\n",
        "\n",
        "range() function is used to print a sequence of  numbers in a loop  and used in for looping.\n",
        "parameters: start ,stop and step\n",
        "     start : integer which is starting from the sequence is to be returned.\n",
        "     stop: integer before which the sequence of integer is to be returned.\n",
        "     step:it is the integer value which is increementing between each integer in sequence.\n",
        "     \n",
        "\n"
      ],
      "execution_count": null,
      "outputs": []
    },
    {
      "cell_type": "code",
      "metadata": {
        "id": "p-nbIx9iCytc",
        "colab_type": "code",
        "colab": {
          "base_uri": "https://localhost:8080/",
          "height": 134
        },
        "outputId": "535d94bf-7b97-435f-bbd9-71549275e5e5"
      },
      "source": [
        "x= range(2,8)\n",
        "for i in x:\n",
        "  print(i)\n",
        "\n",
        "#creating a sequence of numbers but the increement will be 2 instead of 1.\n",
        "x=range(2,16,2)\n",
        "for i in x:\n",
        "  print(i,end=\" \")"
      ],
      "execution_count": 12,
      "outputs": [
        {
          "output_type": "stream",
          "text": [
            "2\n",
            "3\n",
            "4\n",
            "5\n",
            "6\n",
            "7\n",
            "2 4 6 8 10 12 14 "
          ],
          "name": "stdout"
        }
      ]
    },
    {
      "cell_type": "markdown",
      "metadata": {
        "id": "V6USUiEl9FYB",
        "colab_type": "text"
      },
      "source": [
        "Question-3"
      ]
    },
    {
      "cell_type": "code",
      "metadata": {
        "id": "dXjIqlhBEKCO",
        "colab_type": "code",
        "colab": {
          "base_uri": "https://localhost:8080/",
          "height": 50
        },
        "outputId": "571d038a-6b2b-4a3d-ba6e-fa5aeef3e799"
      },
      "source": [
        "a=5\n",
        "b=7\n",
        "result =a-b\n",
        "print(result)\n",
        "if result>25:\n",
        "  result=a*b\n",
        "  print(result)\n",
        "else:\n",
        "    result = a/b\n",
        "    print(result)"
      ],
      "execution_count": 14,
      "outputs": [
        {
          "output_type": "stream",
          "text": [
            "-2\n",
            "0.7142857142857143\n"
          ],
          "name": "stdout"
        }
      ]
    },
    {
      "cell_type": "markdown",
      "metadata": {
        "id": "6zcQkvnEH32M",
        "colab_type": "text"
      },
      "source": [
        "Question-4"
      ]
    },
    {
      "cell_type": "code",
      "metadata": {
        "id": "fLDkdSy8H3NC",
        "colab_type": "code",
        "colab": {
          "base_uri": "https://localhost:8080/",
          "height": 101
        },
        "outputId": "de946879-66c5-41b3-a177-e464d0d0e3eb"
      },
      "source": [
        "list=[1,2,3,4,5,6,7,8,9,10]\n",
        "for i in range(1,11):\n",
        "   if(i%2==0):\n",
        "      print(i)"
      ],
      "execution_count": 27,
      "outputs": [
        {
          "output_type": "stream",
          "text": [
            "2\n",
            "4\n",
            "6\n",
            "8\n",
            "10\n"
          ],
          "name": "stdout"
        }
      ]
    },
    {
      "cell_type": "markdown",
      "metadata": {
        "id": "Js7kpr6sLuSZ",
        "colab_type": "text"
      },
      "source": [
        "Question-5"
      ]
    },
    {
      "cell_type": "code",
      "metadata": {
        "id": "79bM9BJKLthh",
        "colab_type": "code",
        "colab": {
          "base_uri": "https://localhost:8080/",
          "height": 50
        },
        "outputId": "d5759f8c-5cce-48a6-ed45-5319a35a5952"
      },
      "source": [
        "list=[1,2,3,4,5,6,7,8,9,10]\n",
        "count=0\n",
        "for i in list : \n",
        "    if (i%2==0) and (i>7) : \n",
        "      count =count+1\n",
        "      print (\"The numbers greater than 7 : \" + str(count))"
      ],
      "execution_count": 44,
      "outputs": [
        {
          "output_type": "stream",
          "text": [
            "The numbers greater than 7 : 1\n",
            "The numbers greater than 7 : 2\n"
          ],
          "name": "stdout"
        }
      ]
    }
  ]
}