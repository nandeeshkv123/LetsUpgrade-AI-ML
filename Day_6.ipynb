{
  "nbformat": 4,
  "nbformat_minor": 0,
  "metadata": {
    "colab": {
      "name": "Day- 6",
      "provenance": [],
      "collapsed_sections": []
    },
    "kernelspec": {
      "name": "python3",
      "display_name": "Python 3"
    }
  },
  "cells": [
    {
      "cell_type": "markdown",
      "metadata": {
        "id": "OhDZG80KzlOy",
        "colab_type": "text"
      },
      "source": [
        "Question-1"
      ]
    },
    {
      "cell_type": "code",
      "metadata": {
        "id": "KsFcZnI7ykdI",
        "colab_type": "code",
        "colab": {
          "base_uri": "https://localhost:8080/",
          "height": 34
        },
        "outputId": "9ddd4fdb-e738-421d-f6e3-f54274955507"
      },
      "source": [
        "email_address = \"nandeesh@jindal.co.in\"\n",
        "\n",
        "#just use split function multiple times\n",
        "\n",
        "address_list = email_address.split(\"@\")\n",
        "companylist = address_list[1].split(\".\")\n",
        "\n",
        "print(companylist[0])"
      ],
      "execution_count": 12,
      "outputs": [
        {
          "output_type": "stream",
          "text": [
            "jindal\n"
          ],
          "name": "stdout"
        }
      ]
    },
    {
      "cell_type": "markdown",
      "metadata": {
        "id": "Ol5ZBn7Xzpyl",
        "colab_type": "text"
      },
      "source": [
        "Question-2"
      ]
    },
    {
      "cell_type": "code",
      "metadata": {
        "id": "_mk9Gang16XG",
        "colab_type": "code",
        "colab": {
          "base_uri": "https://localhost:8080/",
          "height": 50
        },
        "outputId": "2282ae2d-a7f7-43d5-b1d2-1444c0a1486e"
      },
      "source": [
        "items = input()\n",
        "words = [x for x in items.split(\",\")]\n",
        "words.sort()\n",
        "print(\",\".join(words))"
      ],
      "execution_count": 23,
      "outputs": [
        {
          "output_type": "stream",
          "text": [
            "nandeesh,nagesh,nandini.nagendra,rohan ,abhishek\n",
            "abhishek,nagesh,nandeesh,nandini.nagendra,rohan \n"
          ],
          "name": "stdout"
        }
      ]
    },
    {
      "cell_type": "markdown",
      "metadata": {
        "id": "maW0_7S68ZqZ",
        "colab_type": "text"
      },
      "source": [
        "Question-3"
      ]
    },
    {
      "cell_type": "markdown",
      "metadata": {
        "id": "Y_WATul38fd6",
        "colab_type": "text"
      },
      "source": [
        "SETS"
      ]
    },
    {
      "cell_type": "code",
      "metadata": {
        "id": "eP7F-dGO8ipv",
        "colab_type": "code",
        "colab": {
          "base_uri": "https://localhost:8080/",
          "height": 67
        },
        "outputId": "f240f685-685d-4cc7-c6c8-f19ba56ec71f"
      },
      "source": [
        "#Access items\n",
        "a = {\"apple\", \"banana\", \"cherry\"}\n",
        "\n",
        "for x in a:\n",
        "  print(a)"
      ],
      "execution_count": 25,
      "outputs": [
        {
          "output_type": "stream",
          "text": [
            "{'banana', 'apple', 'cherry'}\n",
            "{'banana', 'apple', 'cherry'}\n",
            "{'banana', 'apple', 'cherry'}\n"
          ],
          "name": "stdout"
        }
      ]
    },
    {
      "cell_type": "code",
      "metadata": {
        "id": "bwpZqNEe9DZw",
        "colab_type": "code",
        "colab": {
          "base_uri": "https://localhost:8080/",
          "height": 34
        },
        "outputId": "bb414861-80e8-44a9-ada6-243bdbb13377"
      },
      "source": [
        "# ADD ITEMS\n",
        "a = {\"apple\", \"banana\", \"cherry\"}\n",
        "a.add(\"orange\")\n",
        "\n",
        "print(a)"
      ],
      "execution_count": 26,
      "outputs": [
        {
          "output_type": "stream",
          "text": [
            "{'orange', 'banana', 'apple', 'cherry'}\n"
          ],
          "name": "stdout"
        }
      ]
    },
    {
      "cell_type": "code",
      "metadata": {
        "id": "40NQ2JMo9QfH",
        "colab_type": "code",
        "colab": {
          "base_uri": "https://localhost:8080/",
          "height": 34
        },
        "outputId": "297970af-6c2e-4af9-feb0-1cca3db8c518"
      },
      "source": [
        "# length of set\n",
        "a = {\"apple\", \"banana\", \"cherry\"}\n",
        "\n",
        "print(len(a))"
      ],
      "execution_count": 27,
      "outputs": [
        {
          "output_type": "stream",
          "text": [
            "3\n"
          ],
          "name": "stdout"
        }
      ]
    },
    {
      "cell_type": "code",
      "metadata": {
        "id": "NobhISmB9gzP",
        "colab_type": "code",
        "colab": {
          "base_uri": "https://localhost:8080/",
          "height": 34
        },
        "outputId": "3e312e14-9877-4752-9a98-308c8d104400"
      },
      "source": [
        "# join sets\n",
        "set1 = {\"a\", \"b\" , \"c\"}\n",
        "set2 = {1, 2, 3}\n",
        "\n",
        "set3 = set1.union(set2)\n",
        "print(set3)"
      ],
      "execution_count": 28,
      "outputs": [
        {
          "output_type": "stream",
          "text": [
            "{1, 2, 3, 'b', 'c', 'a'}\n"
          ],
          "name": "stdout"
        }
      ]
    },
    {
      "cell_type": "code",
      "metadata": {
        "id": "ngd4L1PS9sEw",
        "colab_type": "code",
        "colab": {
          "base_uri": "https://localhost:8080/",
          "height": 34
        },
        "outputId": "f38c837d-b525-4c8f-821b-527d8ca264b4"
      },
      "source": [
        "# update\n",
        "set1 = {\"a\", \"b\" , \"c\"}\n",
        "set2 = {1, 2, 3}\n",
        "\n",
        "set1.update(set2)\n",
        "print(set1)"
      ],
      "execution_count": 29,
      "outputs": [
        {
          "output_type": "stream",
          "text": [
            "{1, 2, 3, 'b', 'c', 'a'}\n"
          ],
          "name": "stdout"
        }
      ]
    },
    {
      "cell_type": "code",
      "metadata": {
        "id": "gyj_8PpJ9yHT",
        "colab_type": "code",
        "colab": {
          "base_uri": "https://localhost:8080/",
          "height": 34
        },
        "outputId": "f6e80005-6dd9-4fbe-a99a-5755fa2bba7b"
      },
      "source": [
        "# set() constructor\n",
        "a = set((\"nandeesh\", \"chetan\", \"cheeks\")) # note the double round-brackets\n",
        "print(a)"
      ],
      "execution_count": 34,
      "outputs": [
        {
          "output_type": "stream",
          "text": [
            "{'cheeks', 'nandeesh', 'chetan'}\n"
          ],
          "name": "stdout"
        }
      ]
    },
    {
      "cell_type": "markdown",
      "metadata": {
        "id": "bLcD7kvj-NDT",
        "colab_type": "text"
      },
      "source": [
        "Question-4"
      ]
    },
    {
      "cell_type": "code",
      "metadata": {
        "id": "N18WejIJ-Gk5",
        "colab_type": "code",
        "colab": {
          "base_uri": "https://localhost:8080/",
          "height": 34
        },
        "outputId": "9bb61607-1991-4c28-f2d0-8c42a9445242"
      },
      "source": [
        "# Find the missing number in the given list\n",
        "def getMissingNumber(A):\n",
        "     m = len(A) + 1\n",
        "     total = m * (m + 1) // 2\n",
        "     return total - sum(A)\n",
        "\n",
        "\n",
        "if __name__ == '__main__':\n",
        "\n",
        "\tA = [1, 2, 3, 4, 5, 7, 8, 9, 10]\n",
        "\n",
        "\tprint(\"The missing number is\", getMissingNumber(A))"
      ],
      "execution_count": 37,
      "outputs": [
        {
          "output_type": "stream",
          "text": [
            "The missing number is 6\n"
          ],
          "name": "stdout"
        }
      ]
    },
    {
      "cell_type": "markdown",
      "metadata": {
        "id": "adY5ZUBoF5iW",
        "colab_type": "text"
      },
      "source": [
        "Question -5"
      ]
    },
    {
      "cell_type": "code",
      "metadata": {
        "id": "_4tMvmTHFPPq",
        "colab_type": "code",
        "colab": {
          "base_uri": "https://localhost:8080/",
          "height": 50
        },
        "outputId": "f4bf3dc1-913c-4b16-8e92-4b741321a245"
      },
      "source": [
        "# Function to remove duplicates \n",
        "def removeDuplicates (list1):\n",
        "\t# one more list\n",
        "\tlist2 = []\n",
        "\n",
        "\tfor n in list1:\n",
        "\t\tif n not in list2:\n",
        "\t\t\tlist2.append (n)\n",
        "\treturn list2\n",
        "\n",
        "list1 = [10, 20, 10, 20, 30, 40, 30, 50]\n",
        "\n",
        "print(list1) \n",
        "print(removeDuplicates(list1))"
      ],
      "execution_count": 41,
      "outputs": [
        {
          "output_type": "stream",
          "text": [
            "[10, 20, 10, 20, 30, 40, 30, 50]\n",
            "[10, 20, 30, 40, 50]\n"
          ],
          "name": "stdout"
        }
      ]
    }
  ]
}