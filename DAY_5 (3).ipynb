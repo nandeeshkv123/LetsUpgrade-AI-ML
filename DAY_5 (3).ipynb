{
  "nbformat": 4,
  "nbformat_minor": 0,
  "metadata": {
    "colab": {
      "name": "DAY-5",
      "provenance": [],
      "collapsed_sections": []
    },
    "kernelspec": {
      "name": "python3",
      "display_name": "Python 3"
    }
  },
  "cells": [
    {
      "cell_type": "markdown",
      "metadata": {
        "id": "lnprXLxwOGil",
        "colab_type": "text"
      },
      "source": [
        "Question-1"
      ]
    },
    {
      "cell_type": "code",
      "metadata": {
        "id": "9v-hkkYbNhWq",
        "colab_type": "code",
        "colab": {
          "base_uri": "https://localhost:8080/",
          "height": 370
        },
        "outputId": "afe1e388-f1ab-4f78-c11b-8acc7ebfb986"
      },
      "source": [
        "start = 0\n",
        "end = 80\n",
        "  \n",
        "for val in range(start, end + 1): \n",
        "    if val > 1: \n",
        "        for n in range(2, val//2 + 2): \n",
        "            if (val % n) == 0: \n",
        "                break\n",
        "            else: \n",
        "                if n == val//2 + 1: \n",
        "                    print(val) "
      ],
      "execution_count": null,
      "outputs": [
        {
          "output_type": "stream",
          "text": [
            "3\n",
            "5\n",
            "7\n",
            "11\n",
            "13\n",
            "17\n",
            "19\n",
            "23\n",
            "29\n",
            "31\n",
            "37\n",
            "41\n",
            "43\n",
            "47\n",
            "53\n",
            "59\n",
            "61\n",
            "67\n",
            "71\n",
            "73\n",
            "79\n"
          ],
          "name": "stdout"
        }
      ]
    },
    {
      "cell_type": "markdown",
      "metadata": {
        "id": "vEnbkv_MOKMF",
        "colab_type": "text"
      },
      "source": [
        "Question-2"
      ]
    },
    {
      "cell_type": "code",
      "metadata": {
        "id": "a9u2poJPqY8o",
        "colab_type": "code",
        "colab": {
          "base_uri": "https://localhost:8080/",
          "height": 353
        },
        "outputId": "38baf580-4c1e-4763-de02-449f47dbf76a"
      },
      "source": [
        "# functions of Strings.\n",
        "# 1)\n",
        "a = \"Hello, World!\"\n",
        "print(len(a)) #len() functions returns the length of string.\n",
        "# 2)\n",
        "a = \"Hello, World!\"\n",
        "print(a.lower()) #lower() method returns the string in lower case.\n",
        "\n",
        "# 3)\n",
        "a = \"Hello, World!\"\n",
        "print(a.upper()) # upper() method return the string in upper case.\n",
        "# 4)\n",
        "a = \"Hello, World!\"\n",
        "print(a.replace(\"H\", \"J\")) # replace() method replace the string with another string.\n",
        "# 5)\n",
        "a = \"Hello, World!\"\n",
        "print(a.split(\",\")) # returns ['Hello', ' World!'] # split() method replaces the string into substring if it find instances of the seperator.\n",
        "# 6\n",
        "age = 36\n",
        "txt = \"My name is John, and I am {}\"\n",
        "print(txt.format(age))  # use format() method to insert numbers into strings.\n",
        "# 7)\n",
        "string = \"nandeesh.\"\n",
        "capitalized_string = string.capitalize()\n",
        "print('Old String: ', string)\n",
        "print('Capitalized String:', capitalized_string) # capitalise() is used to capitalise the first letter of the string.\n",
        "\n",
        "# 8)\n",
        "str = 'nandeesh\\t12345\\tabhishek'\n",
        "result = str.expandtabs()\n",
        "print(result)                                  # expand tabs is used to seperate each strings.\n",
        "\n",
        "# 9)\n",
        "name = \"N2345abc\"\n",
        "print(name.isalnum())                         # isalnum() is used to to find out number of alphanumeric in a given sentence(or any input).\n",
        "\n",
        "# contains whitespace\n",
        "name = \"nandeesh 751\"\n",
        "print(name.isalnum())\n",
        "\n",
        "# 10)\n",
        "s = \"132358\"\n",
        "print(s.isdecimal())\n",
        "# contains alphabets\n",
        "s = \"32nandeesh\"\n",
        "print(s.isdecimal())                           # isDecimal() returns True if all the characters are decimals (0-9)\n",
        "\n",
        "# 11)\n",
        "s = '   \\t'\n",
        "print(s.isspace())\n",
        "s = ' a '\n",
        "print(s.isspace())\n",
        "\n",
        "# 12)\n",
        "number = [3, 2, 8, 5, 10, 6]\n",
        "largest_number = max(number);\n",
        "print(\"The largest number is:\", largest_number)\n",
        "\n",
        "# 13)\n",
        "number = [3, 2, 8, 5, 10, 6]\n",
        "smallest_number = min(number);\n",
        "print(\"The smallest number is:\", smallest_number)\n",
        "\n",
        "# 14)\n",
        "print(float(10))\n",
        "print(float(11.22))\n",
        "\n",
        "# 15)\n",
        "z = complex('5')                    # complex() is used to print the numbers in complex form.\n",
        "print(z)"
      ],
      "execution_count": null,
      "outputs": [
        {
          "output_type": "stream",
          "text": [
            "13\n",
            "hello, world!\n",
            "HELLO, WORLD!\n",
            "Jello, World!\n",
            "['Hello', ' World!']\n",
            "My name is John, and I am 36\n",
            "Old String:  nandeesh.\n",
            "Capitalized String: Nandeesh.\n",
            "nandeesh        12345   abhishek\n",
            "True\n",
            "False\n",
            "True\n",
            "False\n",
            "True\n",
            "False\n",
            "The largest number is: 10\n",
            "The smallest number is: 2\n",
            "10.0\n",
            "11.22\n",
            "(5+0j)\n"
          ],
          "name": "stdout"
        }
      ]
    },
    {
      "cell_type": "markdown",
      "metadata": {
        "id": "VHng9farOM2S",
        "colab_type": "text"
      },
      "source": [
        "Question-3"
      ]
    },
    {
      "cell_type": "code",
      "metadata": {
        "id": "kNRcVFWaqo_w",
        "colab_type": "code",
        "colab": {
          "base_uri": "https://localhost:8080/",
          "height": 128
        },
        "outputId": "f94fe0e0-0741-4ab6-d5a3-826e099e349d"
      },
      "source": [
        "# to check whether string is palindrome,anagram and none  of them.\n",
        "\n",
        "def isPalindrome(x): \n",
        "    return x == x[::-1]\n",
        "# Driver code \n",
        "s=input(\"Enter the string:\")\n",
        "ans=isPalindrome(s)\n",
        " \n",
        "if ans: \n",
        "    print(\"The string is palindrome\") \n",
        "else if (s!=ans):\n",
        "  print(\"The string is anagram\")\n",
        "else:\n",
        "  print(\"none of them\")\n",
        "          \n",
        "        \n"
      ],
      "execution_count": null,
      "outputs": [
        {
          "output_type": "error",
          "ename": "SyntaxError",
          "evalue": "ignored",
          "traceback": [
            "\u001b[0;36m  File \u001b[0;32m\"<ipython-input-53-96ab3350031f>\"\u001b[0;36m, line \u001b[0;32m11\u001b[0m\n\u001b[0;31m    else if (s!=ans):\u001b[0m\n\u001b[0m          ^\u001b[0m\n\u001b[0;31mSyntaxError\u001b[0m\u001b[0;31m:\u001b[0m invalid syntax\n"
          ]
        }
      ]
    },
    {
      "cell_type": "markdown",
      "metadata": {
        "id": "84toenrSOQDJ",
        "colab_type": "text"
      },
      "source": [
        "Question-4"
      ]
    },
    {
      "cell_type": "code",
      "metadata": {
        "id": "x2jmul9KKD67",
        "colab_type": "code",
        "colab": {
          "base_uri": "https://localhost:8080/",
          "height": 50
        },
        "outputId": "519977d9-b448-446b-cd11-5f766ff99f0c"
      },
      "source": [
        "# initializing wrong_chars_list \n",
        "wrong_chars = [',', ':', '!', \"*\"] \n",
        "  \n",
        "# initializing  string  \n",
        "string = \"Nan,Dee:sh!and*is\"\n",
        "  \n",
        "# printing original string  \n",
        "print (\"Original String : \" + string) \n",
        "   \n",
        "for i in wrong_chars : \n",
        "    string = string.replace(i, '') \n",
        "  \n",
        "# printing resultant string  \n",
        "print(\"resultant string :\" +string.lower())"
      ],
      "execution_count": null,
      "outputs": [
        {
          "output_type": "stream",
          "text": [
            "Original String : Nan,Dee:sh!and*is\n",
            "resultant string :nandeeshandis\n"
          ],
          "name": "stdout"
        }
      ]
    }
  ]
}