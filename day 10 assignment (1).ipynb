{
 "cells": [
  {
   "cell_type": "markdown",
   "metadata": {},
   "source": [
    "## Hypothesis statement"
   ]
  },
  {
   "cell_type": "raw",
   "metadata": {},
   "source": [
    "1.Consider mean demand for computers during assembly lead time is 350 units.Our operation manager wants to know whether the mean is different from 350units.\n",
    "Null hypothesis H0 = 350."
   ]
  },
  {
   "cell_type": "raw",
   "metadata": {},
   "source": [
    "2.Test the claim that the true mean of TV sets in US homes is equal to 3.(Assume sigma=0.8)"
   ]
  },
  {
   "cell_type": "raw",
   "metadata": {},
   "source": [
    "3,"
   ]
  },
  {
   "cell_type": "raw",
   "metadata": {},
   "source": [
    "4.If I eat more vegetables, then I will lose weight faster."
   ]
  },
  {
   "cell_type": "raw",
   "metadata": {},
   "source": [
    "5.If I add fertilizer to my garden, then my plants will grow faster."
   ]
  },
  {
   "cell_type": "raw",
   "metadata": {},
   "source": [
    "6.If I take my vitamins every day, then I will not feel tired."
   ]
  },
  {
   "cell_type": "raw",
   "metadata": {},
   "source": [
    "7.If 50 mL of water are added to my plants each day and they grow, then adding 100 mL of water each day will make them grow even more."
   ]
  },
  {
   "cell_type": "raw",
   "metadata": {},
   "source": [
    "8.If I replace the battery in my car, then my car will get better gas mileage."
   ]
  }
 ],
 "metadata": {
  "kernelspec": {
   "display_name": "Python 3",
   "language": "python",
   "name": "python3"
  },
  "language_info": {
   "codemirror_mode": {
    "name": "ipython",
    "version": 3
   },
   "file_extension": ".py",
   "mimetype": "text/x-python",
   "name": "python",
   "nbconvert_exporter": "python",
   "pygments_lexer": "ipython3",
   "version": "3.7.6"
  }
 },
 "nbformat": 4,
 "nbformat_minor": 4
}
