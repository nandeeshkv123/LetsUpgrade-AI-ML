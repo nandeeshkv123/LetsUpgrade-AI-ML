{
 "cells": [
  {
   "cell_type": "code",
   "execution_count": 1,
   "metadata": {},
   "outputs": [],
   "source": [
    "import numpy as np"
   ]
  },
  {
   "cell_type": "code",
   "execution_count": 4,
   "metadata": {},
   "outputs": [
    {
     "name": "stdout",
     "output_type": "stream",
     "text": [
      "[[[0.00505015 0.98897807 0.94355809]\n",
      "  [0.12744895 0.01336562 0.7916474 ]\n",
      "  [0.23742252 0.22197426 0.17112828]]\n",
      "\n",
      " [[0.81839256 0.57984749 0.75325142]\n",
      "  [0.73072206 0.33558831 0.60608816]\n",
      "  [0.12006141 0.3986727  0.26390546]]\n",
      "\n",
      " [[0.34512384 0.81034612 0.96446477]\n",
      "  [0.68547482 0.50731233 0.19156856]\n",
      "  [0.419156   0.31752522 0.86683186]]]\n"
     ]
    }
   ],
   "source": [
    "# Create a 3x3x3 array with random values\n",
    "x=np.random.random((3,3,3))\n",
    "print(x)"
   ]
  },
  {
   "cell_type": "code",
   "execution_count": 16,
   "metadata": {},
   "outputs": [
    {
     "name": "stdout",
     "output_type": "stream",
     "text": [
      "[[0 0 0 0 0]\n",
      " [1 0 0 0 0]\n",
      " [0 2 0 0 0]\n",
      " [0 0 3 0 0]\n",
      " [0 0 0 4 0]]\n"
     ]
    }
   ],
   "source": [
    "# Create a 5x5 matrix with values 1,2,3,4 just below the diagonal\n",
    "Z = np.diag(1+np.arange(4),k=-1)\n",
    "print(Z)"
   ]
  },
  {
   "cell_type": "code",
   "execution_count": 64,
   "metadata": {},
   "outputs": [
    {
     "name": "stdout",
     "output_type": "stream",
     "text": [
      "Checkerboard pattern:\n",
      "[[0. 1. 0. 1. 0. 1. 0. 1.]\n",
      " [1. 0. 1. 0. 1. 0. 1. 0.]\n",
      " [0. 1. 0. 1. 0. 1. 0. 1.]\n",
      " [1. 0. 1. 0. 1. 0. 1. 0.]\n",
      " [0. 1. 0. 1. 0. 1. 0. 1.]\n",
      " [1. 0. 1. 0. 1. 0. 1. 0.]\n",
      " [0. 1. 0. 1. 0. 1. 0. 1.]\n",
      " [1. 0. 1. 0. 1. 0. 1. 0.]]\n"
     ]
    }
   ],
   "source": [
    "# Create a 8x8 matrix and fill it with a checkerboard pattern\n",
    "import numpy as np\n",
    "x = np.ones((3,3))\n",
    "print(\"Checkerboard pattern:\")\n",
    "x = np.zeros((8,8))\n",
    "x[1::2,::2] = 1\n",
    "x[::2,1::2] = 1\n",
    "print(x)\n",
    "\n",
    "\n",
    "\n"
   ]
  },
  {
   "cell_type": "code",
   "execution_count": 36,
   "metadata": {},
   "outputs": [
    {
     "name": "stdout",
     "output_type": "stream",
     "text": [
      "Original Array:\n",
      "[[0.48531769 0.23463666 0.08926528 0.73440115 0.73127901]\n",
      " [0.79683384 0.37429626 0.31446478 0.58827613 0.00848408]\n",
      " [0.68389518 0.44491004 0.41739642 0.88814829 0.66495459]\n",
      " [0.16833576 0.93301941 0.43231746 0.2876821  0.03787313]\n",
      " [0.16524164 0.61170231 0.30399177 0.15714322 0.7106113 ]]\n",
      "After normalization:\n",
      "[[0.51575488 0.24461216 0.08737492 0.78516964 0.78179266]\n",
      " [0.85269836 0.3956714  0.3309562  0.62711725 0.        ]\n",
      " [0.73054115 0.47204898 0.44228958 0.9514663  0.71005455]\n",
      " [0.17289949 1.         0.45842854 0.3019874  0.03178791]\n",
      " [0.16955281 0.65245558 0.31962834 0.16079336 0.75943796]]\n"
     ]
    }
   ],
   "source": [
    "# Normalize a 5x5 random matrix\n",
    "x= np.random.random((5,5))\n",
    "print(\"Original Array:\")\n",
    "print(x)\n",
    "xmax, xmin = x.max(), x.min()\n",
    "x = (x - xmin)/(xmax - xmin)\n",
    "print(\"After normalization:\")\n",
    "print(x)"
   ]
  },
  {
   "cell_type": "code",
   "execution_count": 44,
   "metadata": {},
   "outputs": [
    {
     "name": "stdout",
     "output_type": "stream",
     "text": [
      "Array1 [[1 3 5 7]\n",
      " [2 4 6 8]]\n",
      "Array2 [[ 3  5  9 11]\n",
      " [ 4  8 10 12]]\n",
      "Common values between 2 arrays\n",
      "[3 4 5 8]\n"
     ]
    }
   ],
   "source": [
    "#  How to find common values between two arrays?\n",
    "import numpy as np\n",
    "arr1=np.array(([1,3,5,7],[2,4,6,8]))\n",
    "print(\"Array1\",arr1)\n",
    "arr2=np.array(([3,5,9,11],[4,8,10,12]))\n",
    "print(\"Array2\",arr2)\n",
    "print(\"Common values between 2 arrays\")\n",
    "print(np.intersect1d(arr1,arr2))\n"
   ]
  },
  {
   "cell_type": "code",
   "execution_count": 45,
   "metadata": {},
   "outputs": [
    {
     "name": "stdout",
     "output_type": "stream",
     "text": [
      "2020-07-26\n",
      "2020-07-25\n",
      "2020-07-27\n"
     ]
    }
   ],
   "source": [
    "# How to get the dates of yesterday, today and tomorrow?\n",
    "import datetime\n",
    "today=datetime.date.today()\n",
    "yesterday=today-datetime.timedelta(days=1)\n",
    "tommorrow=today+datetime.timedelta(days=1)\n",
    "print(today)\n",
    "print(yesterday)\n",
    "print(tommorrow)"
   ]
  },
  {
   "cell_type": "code",
   "execution_count": 49,
   "metadata": {},
   "outputs": [
    {
     "name": "stdout",
     "output_type": "stream",
     "text": [
      "Array1 [ 3  5  9 11]\n",
      "Array2 [ 3  5  9 11]\n",
      "True\n"
     ]
    }
   ],
   "source": [
    "# Consider two random array A and B, check if they are equal\n",
    "import numpy as np\n",
    "arr1=np.array(([3,5,9,11]))\n",
    "print(\"Array1\",arr1)\n",
    "arr2=np.array(([3,5,9,11]))\n",
    "print(\"Array2\",arr2)\n",
    "arr_equal=np.allclose(arr1,arr2)\n",
    "print(arr_equal)"
   ]
  },
  {
   "cell_type": "code",
   "execution_count": 50,
   "metadata": {},
   "outputs": [
    {
     "name": "stdout",
     "output_type": "stream",
     "text": [
      "Original array:\n",
      "[0.03970517 0.23840614 0.25123489 0.22496126 0.91865568 0.74499409\n",
      " 0.100369   0.58540812 0.85558209 0.53418463]\n",
      "Maximum value replaced by 0:\n",
      "[0.03970517 0.23840614 0.25123489 0.22496126 0.         0.74499409\n",
      " 0.100369   0.58540812 0.85558209 0.53418463]\n"
     ]
    }
   ],
   "source": [
    "# Create random vector of size 10 and replace the maximum value by 0\n",
    "import numpy as np\n",
    "x = np.random.random(10)\n",
    "print(\"Original array:\")\n",
    "print(x)\n",
    "x[x.argmax()] = 0\n",
    "print(\"Maximum value replaced by 0:\")\n",
    "print(x)"
   ]
  },
  {
   "cell_type": "code",
   "execution_count": 51,
   "metadata": {},
   "outputs": [
    {
     "name": "stdout",
     "output_type": "stream",
     "text": [
      "[[0. 0. 0. 0.]\n",
      " [0. 0. 0. 0.]\n",
      " [0. 0. 0. 0.]\n",
      " [0. 0. 0. 0.]]\n"
     ]
    }
   ],
   "source": [
    "# How to print all the values of an array?\n",
    "import numpy as np\n",
    "x = np.zeros((4, 4))\n",
    "print(x)"
   ]
  },
  {
   "cell_type": "code",
   "execution_count": 63,
   "metadata": {},
   "outputs": [
    {
     "name": "stdout",
     "output_type": "stream",
     "text": [
      "Original matrix:\n",
      "\n",
      "[[0.68010936 0.56837742 0.97813938]\n",
      " [0.92501349 0.2972868  0.47417919]\n",
      " [0.11582672 0.13437926 0.62043311]]\n",
      "\n",
      "Subtract the mean of each row of the said matrix:\n",
      "\n",
      "[[-0.06209936  0.00288425  0.68792635]\n",
      " [ 0.18280478 -0.26820636  0.18396616]\n",
      " [-0.626382   -0.4311139   0.33022008]]\n"
     ]
    }
   ],
   "source": [
    "# Subtract the mean of each row of a matrix\n",
    "import numpy as np\n",
    "print(\"Original matrix:\\n\")\n",
    "X = np.random.rand(3,3)\n",
    "print(X)\n",
    "print(\"\\nSubtract the mean of each row of the said matrix:\\n\")\n",
    "Y = X - X.mean(axis=1)\n",
    "print(Y)"
   ]
  },
  {
   "cell_type": "code",
   "execution_count": 75,
   "metadata": {},
   "outputs": [
    {
     "name": "stdout",
     "output_type": "stream",
     "text": [
      "[5. 3. 3. 1. 4. 2. 5. 3. 2. 2.]\n"
     ]
    }
   ],
   "source": [
    " # .Consider a given vector, how to add 1 to each element indexed by a second vector (be careful with repeated indices)?\n",
    "    Z = np.ones(10)\n",
    "\n",
    "I = np.random.randint(0,len(Z),20)\n",
    "\n",
    "Z += np.bincount(I, minlength=len(Z))\n",
    "\n",
    "print(Z)\n"
   ]
  },
  {
   "cell_type": "code",
   "execution_count": 76,
   "metadata": {},
   "outputs": [
    {
     "name": "stdout",
     "output_type": "stream",
     "text": [
      "Original array:\n",
      "[6 5 4 6 9 9 2 7 4 7 5 2 4 2 5 3 2 1 6 4 0 5 3 7 1 4 0 8 1 1 3 2 0 9 4 1 7\n",
      " 5 9 3]\n",
      "Most frequent value in the above array:\n",
      "4\n"
     ]
    }
   ],
   "source": [
    "#How to find the most frequent value in an array?\n",
    "import numpy as np\n",
    "x = np.random.randint(0, 10, 40)\n",
    "print(\"Original array:\")\n",
    "print(x)\n",
    "print(\"Most frequent value in the above array:\")\n",
    "print(np.bincount(x).argmax())"
   ]
  },
  {
   "cell_type": "code",
   "execution_count": 77,
   "metadata": {},
   "outputs": [
    {
     "name": "stdout",
     "output_type": "stream",
     "text": [
      "Original array:\n",
      "[0 1 2 3 4 5 6 7 8 9]\n",
      "[9]\n"
     ]
    }
   ],
   "source": [
    "# program to get the n largest values of an arr\n",
    "x = np.arange(10)\n",
    "print(\"Original array:\")\n",
    "print(x)\n",
    "np.random.shuffle(x)\n",
    "n = 1\n",
    "print (x[np.argsort(x)[-n:]])\n"
   ]
  },
  {
   "cell_type": "code",
   "execution_count": 79,
   "metadata": {},
   "outputs": [
    {
     "name": "stdout",
     "output_type": "stream",
     "text": [
      "(5, 'Red', 12.2)\n",
      "(6, 'Green', 15.)\n",
      "(7, 'Blue', 20.)\n"
     ]
    }
   ],
   "source": [
    "# program to create a record array from a (flat) list of arrays.\n",
    "import numpy as np\n",
    "a1=np.array([5,6,7,8])\n",
    "a2=np.array(['Red','Green','Blue','Orange'])\n",
    "a3=np.array([12.20,15,20,40])\n",
    "result= np.core.records.fromarrays([a1, a2, a3],names='a,b,c')\n",
    "print(result[0])\n",
    "print(result[1])\n",
    "print(result[2])"
   ]
  }
 ],
 "metadata": {
  "kernelspec": {
   "display_name": "Python 3",
   "language": "python",
   "name": "python3"
  },
  "language_info": {
   "codemirror_mode": {
    "name": "ipython",
    "version": 3
   },
   "file_extension": ".py",
   "mimetype": "text/x-python",
   "name": "python",
   "nbconvert_exporter": "python",
   "pygments_lexer": "ipython3",
   "version": "3.7.6"
  }
 },
 "nbformat": 4,
 "nbformat_minor": 4
}
